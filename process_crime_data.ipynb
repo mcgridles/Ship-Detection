{
 "cells": [
  {
   "cell_type": "code",
   "execution_count": 141,
   "metadata": {},
   "outputs": [],
   "source": [
    "import os\n",
    "import pandas as pd"
   ]
  },
  {
   "cell_type": "code",
   "execution_count": 143,
   "metadata": {},
   "outputs": [],
   "source": [
    "# Initialize crime dataframe\n",
    "crime_df = pd.DataFrame(columns=['ID', 'Date', 'Block', 'Primary Type', 'Arrest', 'Domestic', 'Beat',\n",
    "                                'District', 'Ward', 'Year', 'Latitude', 'Longitude'])"
   ]
  },
  {
   "cell_type": "code",
   "execution_count": 144,
   "metadata": {},
   "outputs": [
    {
     "name": "stderr",
     "output_type": "stream",
     "text": [
      "b'Skipping line 1513591: expected 23 fields, saw 24\\n'\n"
     ]
    },
    {
     "name": "stdout",
     "output_type": "stream",
     "text": [
      "1923515\n"
     ]
    }
   ],
   "source": [
    "# Load 2001-2004\n",
    "df = pd.read_csv('crimes-in-chicago/Chicago_Crimes_2001_to_2004.csv', error_bad_lines=False)\n",
    "df.drop(columns=['Unnamed: 0', 'Case Number', 'IUCR', 'Location Description', 'Description', \n",
    "                       'FBI Code', 'X Coordinate', 'Y Coordinate', 'Updated On', 'Location'], inplace=True)\n",
    "print(len(df.index))\n",
    "\n",
    "crime_df = crime_df.append(df, ignore_index=True)"
   ]
  },
  {
   "cell_type": "code",
   "execution_count": 145,
   "metadata": {},
   "outputs": [
    {
     "name": "stderr",
     "output_type": "stream",
     "text": [
      "b'Skipping line 533719: expected 23 fields, saw 24\\n'\n"
     ]
    },
    {
     "name": "stdout",
     "output_type": "stream",
     "text": [
      "1872343\n"
     ]
    }
   ],
   "source": [
    "# Load 2005-2007\n",
    "df = pd.read_csv('crimes-in-chicago/Chicago_Crimes_2005_to_2007.csv', error_bad_lines=False)\n",
    "df.drop(columns=['Unnamed: 0', 'Case Number', 'IUCR', 'Location Description', 'Description', \n",
    "                       'FBI Code', 'X Coordinate', 'Y Coordinate', 'Updated On', 'Location'], inplace=True)\n",
    "print(len(df.index))\n",
    "\n",
    "crime_df = crime_df.append(df, ignore_index=True)"
   ]
  },
  {
   "cell_type": "code",
   "execution_count": 146,
   "metadata": {},
   "outputs": [
    {
     "name": "stderr",
     "output_type": "stream",
     "text": [
      "b'Skipping line 1149094: expected 23 fields, saw 41\\n'\n"
     ]
    },
    {
     "name": "stdout",
     "output_type": "stream",
     "text": [
      "2688710\n"
     ]
    }
   ],
   "source": [
    "# Load 2008-2011\n",
    "df = pd.read_csv('crimes-in-chicago/Chicago_Crimes_2008_to_2011.csv', error_bad_lines=False)\n",
    "df.drop(columns=['Unnamed: 0', 'Case Number', 'IUCR', 'Location Description', 'Description', \n",
    "                       'FBI Code', 'X Coordinate', 'Y Coordinate', 'Updated On', 'Location'], inplace=True)\n",
    "print(len(df.index))\n",
    "\n",
    "crime_df = crime_df.append(df, ignore_index=True)"
   ]
  },
  {
   "cell_type": "code",
   "execution_count": 147,
   "metadata": {},
   "outputs": [
    {
     "name": "stdout",
     "output_type": "stream",
     "text": [
      "1456714\n",
      "7941282\n"
     ]
    }
   ],
   "source": [
    "# Load 2012-2017\n",
    "df = pd.read_csv('crimes-in-chicago/Chicago_Crimes_2012_to_2017.csv', error_bad_lines=False)\n",
    "df.drop(columns=['Unnamed: 0', 'Case Number', 'IUCR', 'Location Description', 'Description', \n",
    "                       'FBI Code', 'X Coordinate', 'Y Coordinate', 'Updated On', 'Location'], inplace=True)\n",
    "print(len(df.index))\n",
    "\n",
    "crime_df = crime_df.append(df, ignore_index=True)\n",
    "print(len(crime_df.index))"
   ]
  },
  {
   "cell_type": "code",
   "execution_count": 199,
   "metadata": {},
   "outputs": [
    {
     "name": "stdout",
     "output_type": "stream",
     "text": [
      "850\n",
      "Arrests                 27\n",
      "Arrests Pct       0.278351\n",
      "Crime Pct      0.000170619\n",
      "Crimes                  97\n",
      "Ward                     1\n",
      "Year                  2001\n",
      "Name: 0, dtype: object\n"
     ]
    }
   ],
   "source": [
    "year_min = 2001\n",
    "year_max = 2017\n",
    "ward_min = 1\n",
    "ward_max = 50\n",
    "\n",
    "row_count = 0\n",
    "crime_df_cleaned = pd.DataFrame(columns=['Ward', 'Year', 'Crimes', 'Crime Pct', 'Arrests', 'Arrests Pct'])\n",
    "for year in range(year_min, year_max+1):\n",
    "    crime_by_year = crime_df.loc[crime_df.Year == year]\n",
    "    total_crimes = len(crime_by_year.index)\n",
    "\n",
    "    for ward in range(ward_min, ward_max+1):\n",
    "        ward_data = crime_by_year.loc[crime_by_year.Ward == ward]\n",
    "        \n",
    "        crimes = len(ward_data.index)\n",
    "        pct_crimes = float(crimes) / float(total_crimes)\n",
    "        arrests = ward_data.Arrest.sum()\n",
    "        pct_arrests = float(arrests) / float(crimes)\n",
    "        \n",
    "        ward_records = {'Ward': ward, 'Year': year, 'Crimes': crimes, 'Crime Pct': pct_crimes, \n",
    "                       'Arrests': arrests, 'Arrests Pct': pct_arrests}\n",
    "        ward_df = pd.DataFrame.from_records([ward_records], index=[row_count])\n",
    "        crime_df_cleaned = crime_df_cleaned.append(ward_df)\n",
    "        row_count += 1\n",
    "\n",
    "crime_df_cleaned.to_csv('crimes-in-chicago/cleaned_data.csv')\n",
    "\n",
    "print(len(crime_df_cleaned.index))\n",
    "print(crime_df_cleaned.iloc[0])\n"
   ]
  }
 ],
 "metadata": {
  "kernelspec": {
   "display_name": "Python 3",
   "language": "python",
   "name": "python3"
  },
  "language_info": {
   "codemirror_mode": {
    "name": "ipython",
    "version": 3
   },
   "file_extension": ".py",
   "mimetype": "text/x-python",
   "name": "python",
   "nbconvert_exporter": "python",
   "pygments_lexer": "ipython3",
   "version": "3.6.6"
  }
 },
 "nbformat": 4,
 "nbformat_minor": 2
}
